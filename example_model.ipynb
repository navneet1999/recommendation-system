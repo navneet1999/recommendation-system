{
 "cells": [
  {
   "cell_type": "code",
   "execution_count": 9,
   "metadata": {},
   "outputs": [
    {
     "name": "stderr",
     "output_type": "stream",
     "text": [
      "/usr/lib/pymodules/python2.7/matplotlib/__init__.py:1173: UserWarning:  This call to matplotlib.use() has no effect\n",
      "because the backend has already been chosen;\n",
      "matplotlib.use() must be called *before* pylab, matplotlib.pyplot,\n",
      "or matplotlib.backends is imported for the first time.\n",
      "\n",
      "  warnings.warn(_use_error_msg)\n"
     ]
    }
   ],
   "source": [
    "import numpy as np\n",
    "import pandas as pd\n",
    "import matplotlib\n",
    "# Force matplotlib to not use any Xwindows backend.\n",
    "matplotlib.use('Agg')\n",
    "import matplotlib.pyplot as plt\n",
    "import math\n",
    "import cPickle\n",
    "import os\n",
    "import json\n",
    "import pickle\n",
    "from lightfm import LightFM\n",
    "from lightfm.evaluation import precision_at_k\n",
    "from get_data import fetch_movielens\n",
    "%matplotlib inline\n",
    "import random\n",
    "random.seed(0)\n",
    "# Force matplotlib to not use any Xwindows backend."
   ]
  },
  {
   "cell_type": "code",
   "execution_count": 10,
   "metadata": {},
   "outputs": [
    {
     "name": "stdout",
     "output_type": "stream",
     "text": [
      "<943x1682 sparse matrix of type '<type 'numpy.int32'>'\n",
      "\twith 49906 stored elements in COOrdinate format>\n",
      "<943x1682 sparse matrix of type '<type 'numpy.int32'>'\n",
      "\twith 5469 stored elements in COOrdinate format>\n"
     ]
    }
   ],
   "source": [
    "# Load the MovieLens 100k dataset. Only five\n",
    "# star ratings are treated as positive.\n",
    "data = fetch_movielens(data_home=os.environ['DATA_DIR'], min_rating=4.0)\n",
    "print(repr(data['train']))\n",
    "print(repr(data['test']))"
   ]
  },
  {
   "cell_type": "code",
   "execution_count": 12,
   "metadata": {},
   "outputs": [
    {
     "name": "stdout",
     "output_type": "stream",
     "text": [
      "CPU times: user 2.23 s, sys: 12 ms, total: 2.24 s\n",
      "Wall time: 1.14 s\n",
      "0.0826552\n"
     ]
    }
   ],
   "source": [
    "# Instantiate and train the model\n",
    "loss_type = 'warp'\n",
    "model = LightFM(loss=loss_type)\n",
    "%time model.fit(data['train'], epochs=40, num_threads=2)\n",
    "\n",
    "# Evaluate the trained model\n",
    "train_precision = precision_at_k(model, data['train'], k=5).mean()\n",
    "test_precision = precision_at_k(model, data['test'], k=5).mean()\n",
    "print test_precision"
   ]
  },
  {
   "cell_type": "code",
   "execution_count": 13,
   "metadata": {},
   "outputs": [
    {
     "name": "stdout",
     "output_type": "stream",
     "text": [
      "{'loss': 'warp', 'train_precision': 0.5794055461883545, 'test_precision': 0.08265524357557297}\n"
     ]
    }
   ],
   "source": [
    "# save the classifier\n",
    "stats = {\"train_precision\": float(train_precision),\"test_precision\":float(test_precision), 'loss':loss_type}\n",
    "print stats\n",
    "model_filename = os.path.join(os.environ['OUTPUT_DIR'],'model.dat')\n",
    "pickle.dump(model, open(model_filename, 'wb'))\n",
    "stats_filename = os.path.join(os.environ['OUTPUT_DIR'],'stats.json')\n",
    "with open(stats_filename, 'wb') as f:\n",
    "    f.write(json.dumps(stats))"
   ]
  },
  {
   "cell_type": "code",
   "execution_count": 14,
   "metadata": {},
   "outputs": [
    {
     "name": "stdout",
     "output_type": "stream",
     "text": [
      "User 3\n",
      "     Known positives:\n",
      "        Seven (Se7en) (1995)\n",
      "        Contact (1997)\n",
      "        Starship Troopers (1997)\n",
      "     Recommended:\n",
      "        Scream (1996)\n",
      "        Contact (1997)\n",
      "        Chasing Amy (1997)\n",
      "User 25\n",
      "     Known positives:\n",
      "        Dead Man Walking (1995)\n",
      "        Star Wars (1977)\n",
      "        Fargo (1996)\n",
      "     Recommended:\n",
      "        English Patient, The (1996)\n",
      "        Contact (1997)\n",
      "        Titanic (1997)\n",
      "User 450\n",
      "     Known positives:\n",
      "        Contact (1997)\n",
      "        George of the Jungle (1997)\n",
      "        Event Horizon (1997)\n",
      "     Recommended:\n",
      "        Scream (1996)\n",
      "        G.I. Jane (1997)\n",
      "        I Know What You Did Last Summer (1997)\n"
     ]
    }
   ],
   "source": [
    "def sample_recommendation(model, data, user_ids):\n",
    "\n",
    "\n",
    "    n_users, n_items = data['train'].shape\n",
    "\n",
    "    for user_id in user_ids:\n",
    "        known_positives = data['item_labels'][data['train'].tocsr()[user_id].indices]\n",
    "\n",
    "        scores = model.predict(user_id, np.arange(n_items))\n",
    "        top_items = data['item_labels'][np.argsort(-scores)]\n",
    "\n",
    "        print(\"User %s\" % user_id)\n",
    "        print(\"     Known positives:\")\n",
    "\n",
    "        for x in known_positives[:3]:\n",
    "            print(\"        %s\" % x)\n",
    "\n",
    "        print(\"     Recommended:\")\n",
    "\n",
    "        for x in top_items[:3]:\n",
    "            print(\"        %s\" % x)\n",
    "\n",
    "sample_recommendation(model, data, [3, 25, 450])"
   ]
  },
  {
   "cell_type": "code",
   "execution_count": null,
   "metadata": {
    "collapsed": true
   },
   "outputs": [],
   "source": []
  }
 ],
 "metadata": {
  "anaconda-cloud": {},
  "kernelspec": {
   "display_name": "Python 2",
   "language": "python",
   "name": "python2"
  },
  "language_info": {
   "codemirror_mode": {
    "name": "ipython",
    "version": 2
   },
   "file_extension": ".py",
   "mimetype": "text/x-python",
   "name": "python",
   "nbconvert_exporter": "python",
   "pygments_lexer": "ipython2",
   "version": "2.7.6"
  }
 },
 "nbformat": 4,
 "nbformat_minor": 1
}
